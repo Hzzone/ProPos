{
 "cells": [
  {
   "cell_type": "code",
   "execution_count": 1,
   "metadata": {
    "pycharm": {
     "name": "#%%\n"
    }
   },
   "outputs": [],
   "source": [
    "import torch\n",
    "from torchvision import transforms, datasets\n",
    "import numpy as np\n",
    "torch.set_grad_enabled(False)\n",
    "from torch import nn\n",
    "# device_ids = [0, 1, 2, 3]\n",
    "device_ids = [4, ]\n",
    "torch.cuda.set_device(device_ids[0])\n",
    "torch.multiprocessing.set_sharing_strategy('file_system')\n",
    "%load_ext autoreload\n",
    "%autoreload 2"
   ]
  },
  {
   "cell_type": "code",
   "execution_count": 2,
   "metadata": {
    "pycharm": {
     "name": "#%%\n"
    }
   },
   "outputs": [
    {
     "data": {
      "text/plain": "10"
     },
     "execution_count": 2,
     "metadata": {},
     "output_type": "execute_result"
    }
   ],
   "source": [
    "from models.basic_template import TrainTask\n",
    "\n",
    "dataset_name = 'cifar10'\n",
    "# dataset_name = 'imagenet'\n",
    "test_transform = transforms.Compose([\n",
    "    # transforms.Resize(256),\n",
    "    # transforms.CenterCrop(224),\n",
    "    transforms.ToTensor(),\n",
    "    TrainTask.normalize(dataset_name)\n",
    "])\n",
    "train_dataset = TrainTask.create_dataset(\n",
    "    data_root='/home/zzhuang/DATASET/clustering/',\n",
    "    dataset_name=dataset_name,\n",
    "    train=True,\n",
    "    transform=test_transform,\n",
    "    memory=True,\n",
    ")[0]\n",
    "# dataset = torch.utils.data.ConcatDataset([create_dataset(), create_dataset(False)])\n",
    "train_loader = torch.utils.data.DataLoader(train_dataset,\n",
    "                                           batch_size=1024,\n",
    "                                           shuffle=False,\n",
    "                                           num_workers=64)\n",
    "test_dataset = TrainTask.create_dataset(\n",
    "    data_root='/home/zzhuang/DATASET/clustering/',\n",
    "    dataset_name=dataset_name,\n",
    "    train=False,\n",
    "    transform=test_transform,\n",
    "    memory=True,\n",
    ")[0]\n",
    "# dataset = torch.utils.data.ConcatDataset([create_dataset(), create_dataset(False)])\n",
    "test_loader = torch.utils.data.DataLoader(test_dataset,\n",
    "                                          # batch_size=256,\n",
    "                                          batch_size=1024,\n",
    "                                          shuffle=False,\n",
    "                                          num_workers=40)\n",
    "num_classes = len(np.unique(train_dataset.targets))\n",
    "num_classes"
   ]
  },
  {
   "cell_type": "code",
   "execution_count": 4,
   "outputs": [
    {
     "name": "stdout",
     "output_type": "stream",
     "text": [
      "<All keys matched successfully>\n"
     ]
    }
   ],
   "source": [
    "from models.propos.byol_wrapper import BYOLWrapper\n",
    "from network import backbone_dict\n",
    "# backbone = 'resnet50'\n",
    "backbone = 'bigresnet18'\n",
    "encoder_type, dim_in = backbone_dict[backbone]\n",
    "encoder = encoder_type()\n",
    "byol = BYOLWrapper(encoder,\n",
    "                 num_cluster=num_classes,\n",
    "                 in_dim=dim_in,\n",
    "                 temperature=0.5,\n",
    "                 hidden_size=4096,\n",
    "                 fea_dim=256,\n",
    "                 byol_momentum=0.999,\n",
    "                 symmetric=True,\n",
    "                 shuffling_bn=True,\n",
    "                 latent_std=0.001)\n",
    "checkpoint = ''\n",
    "msg = byol.load_state_dict(torch.load(checkpoint, map_location='cpu')['byol'], strict=False)\n",
    "print(msg)\n",
    "encoder = nn.Sequential(byol.encoder_k, byol.projector_k)\n",
    "encoder = nn.DataParallel(encoder, device_ids=device_ids).cuda().eval()"
   ],
   "metadata": {
    "collapsed": false,
    "pycharm": {
     "name": "#%%\n"
    }
   }
  },
  {
   "cell_type": "code",
   "execution_count": 5,
   "outputs": [
    {
     "name": "stderr",
     "output_type": "stream",
     "text": [
      "100%|██████████| 49/49 [00:13<00:00,  3.56it/s]\n"
     ]
    },
    {
     "name": "stdout",
     "output_type": "stream",
     "text": [
      "func: \u001B[0;34m'extract_features'\u001B[0m took a total of \u001B[0;34m13.9047\u001B[0m sec to run\n"
     ]
    },
    {
     "name": "stderr",
     "output_type": "stream",
     "text": [
      "100%|██████████| 10/10 [00:05<00:00,  1.86it/s]\n"
     ]
    },
    {
     "name": "stdout",
     "output_type": "stream",
     "text": [
      "func: \u001B[0;34m'extract_features'\u001B[0m took a total of \u001B[0;34m5.4207\u001B[0m sec to run\n"
     ]
    }
   ],
   "source": [
    "from utils import extract_features\n",
    "mem_features, mem_labels = extract_features(encoder, train_loader)\n",
    "test_features, test_labels = extract_features(encoder, test_loader)"
   ],
   "metadata": {
    "collapsed": false,
    "pycharm": {
     "name": "#%%\n"
    }
   }
  },
  {
   "cell_type": "code",
   "execution_count": null,
   "outputs": [],
   "source": [
    "kwargs = {\n",
    "    'metric': 'cosine',\n",
    "    'distributed': True,\n",
    "    'random_state': 0,\n",
    "    'n_clusters': int(mem_labels.max()) + 1,\n",
    "    'verbose': True\n",
    "}\n",
    "from torch_clustering import PyTorchKMeans, evaluate_clustering\n",
    "clustering_model = PyTorchKMeans(init='k-means++', max_iter=300, tol=1e-4, **kwargs)\n",
    "\n",
    "psedo_labels = clustering_model.fit_predict(mem_features)\n",
    "cluster_centers = clustering_model.cluster_centers_"
   ],
   "metadata": {
    "collapsed": false,
    "pycharm": {
     "name": "#%%\n"
    }
   }
  },
  {
   "cell_type": "code",
   "execution_count": 8,
   "metadata": {
    "pycharm": {
     "name": "#%%\n"
    }
   },
   "outputs": [],
   "source": [
    "results = evaluate_clustering(mem_labels.cpu().numpy(), psedo_labels.cpu().numpy(), eval_metric=['nmi'])"
   ]
  },
  {
   "cell_type": "code",
   "execution_count": null,
   "outputs": [],
   "source": [
    "results"
   ],
   "metadata": {
    "collapsed": false,
    "pycharm": {
     "name": "#%%\n"
    }
   }
  }
 ],
 "metadata": {
  "kernelspec": {
   "display_name": "Python 3",
   "language": "python",
   "name": "python3"
  },
  "language_info": {
   "codemirror_mode": {
    "name": "ipython",
    "version": 3
   },
   "file_extension": ".py",
   "mimetype": "text/x-python",
   "name": "python",
   "nbconvert_exporter": "python",
   "pygments_lexer": "ipython3",
   "version": "3.7.10"
  }
 },
 "nbformat": 4,
 "nbformat_minor": 4
}